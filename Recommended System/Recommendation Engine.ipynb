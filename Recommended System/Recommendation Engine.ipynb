{
 "cells": [
  {
   "cell_type": "markdown",
   "metadata": {
    "executionInfo": {
     "elapsed": 3,
     "status": "ok",
     "timestamp": 1669030286174,
     "user": {
      "displayName": "Salem Sameer Shaikh",
      "userId": "05291575250389740253"
     },
     "user_tz": -330
    },
    "id": "e03E18HJ7x18"
   },
   "source": [
    "________________________________________________________________________________________________________________________\n",
    "\n",
    "\n",
    "* Yuvraj Sutar \n",
    "* yuvrajsutar009@gmail.com\n",
    "_ _________________________________________________________________________________________________________________________\n",
    "_  _________________________________________________________________________________________________________________________"
   ]
  },
  {
   "cell_type": "code",
   "execution_count": 4,
   "metadata": {},
   "outputs": [],
   "source": [
    "import pandas as pd\n",
    "import numpy as np"
   ]
  },
  {
   "cell_type": "markdown",
   "metadata": {},
   "source": [
    "Read the movie ratings data into a pandas DataFrame"
   ]
  },
  {
   "cell_type": "code",
   "execution_count": 5,
   "metadata": {
    "executionInfo": {
     "elapsed": 688,
     "status": "ok",
     "timestamp": 1669030291019,
     "user": {
      "displayName": "Salem Sameer Shaikh",
      "userId": "05291575250389740253"
     },
     "user_tz": -330
    },
    "id": "YBzXzTi07x2C"
   },
   "outputs": [],
   "source": [
    "movies_df = pd.read_csv('Movie.csv')"
   ]
  },
  {
   "cell_type": "code",
   "execution_count": 6,
   "metadata": {
    "id": "J4CFwhcLuAJf"
   },
   "outputs": [
    {
     "data": {
      "text/html": [
       "<div>\n",
       "<style scoped>\n",
       "    .dataframe tbody tr th:only-of-type {\n",
       "        vertical-align: middle;\n",
       "    }\n",
       "\n",
       "    .dataframe tbody tr th {\n",
       "        vertical-align: top;\n",
       "    }\n",
       "\n",
       "    .dataframe thead th {\n",
       "        text-align: right;\n",
       "    }\n",
       "</style>\n",
       "<table border=\"1\" class=\"dataframe\">\n",
       "  <thead>\n",
       "    <tr style=\"text-align: right;\">\n",
       "      <th></th>\n",
       "      <th>userId</th>\n",
       "      <th>movie</th>\n",
       "      <th>rating</th>\n",
       "    </tr>\n",
       "  </thead>\n",
       "  <tbody>\n",
       "    <tr>\n",
       "      <th>0</th>\n",
       "      <td>3</td>\n",
       "      <td>Toy Story (1995)</td>\n",
       "      <td>4.0</td>\n",
       "    </tr>\n",
       "    <tr>\n",
       "      <th>1</th>\n",
       "      <td>6</td>\n",
       "      <td>Toy Story (1995)</td>\n",
       "      <td>5.0</td>\n",
       "    </tr>\n",
       "    <tr>\n",
       "      <th>2</th>\n",
       "      <td>8</td>\n",
       "      <td>Toy Story (1995)</td>\n",
       "      <td>4.0</td>\n",
       "    </tr>\n",
       "    <tr>\n",
       "      <th>3</th>\n",
       "      <td>10</td>\n",
       "      <td>Toy Story (1995)</td>\n",
       "      <td>4.0</td>\n",
       "    </tr>\n",
       "    <tr>\n",
       "      <th>4</th>\n",
       "      <td>11</td>\n",
       "      <td>Toy Story (1995)</td>\n",
       "      <td>4.5</td>\n",
       "    </tr>\n",
       "  </tbody>\n",
       "</table>\n",
       "</div>"
      ],
      "text/plain": [
       "   userId             movie  rating\n",
       "0       3  Toy Story (1995)     4.0\n",
       "1       6  Toy Story (1995)     5.0\n",
       "2       8  Toy Story (1995)     4.0\n",
       "3      10  Toy Story (1995)     4.0\n",
       "4      11  Toy Story (1995)     4.5"
      ]
     },
     "execution_count": 6,
     "metadata": {},
     "output_type": "execute_result"
    }
   ],
   "source": [
    "movies_df.head()\n"
   ]
  },
  {
   "cell_type": "markdown",
   "metadata": {},
   "source": [
    "unique User ID"
   ]
  },
  {
   "cell_type": "code",
   "execution_count": 7,
   "metadata": {},
   "outputs": [
    {
     "data": {
      "text/plain": [
       "array([   3,    6,    8, ..., 7080, 7087, 7105], dtype=int64)"
      ]
     },
     "execution_count": 7,
     "metadata": {},
     "output_type": "execute_result"
    }
   ],
   "source": [
    "movies_df[\"userId\"].unique()"
   ]
  },
  {
   "cell_type": "markdown",
   "metadata": {},
   "source": [
    "count movies"
   ]
  },
  {
   "cell_type": "code",
   "execution_count": 8,
   "metadata": {},
   "outputs": [
    {
     "data": {
      "text/plain": [
       "Toy Story (1995)                      2569\n",
       "GoldenEye (1995)                      1548\n",
       "Heat (1995)                           1260\n",
       "Jumanji (1995)                        1155\n",
       "Sabrina (1995)                         700\n",
       "Grumpier Old Men (1995)                685\n",
       "Father of the Bride Part II (1995)     657\n",
       "Sudden Death (1995)                    202\n",
       "Waiting to Exhale (1995)               138\n",
       "Tom and Huck (1995)                     78\n",
       "Name: movie, dtype: int64"
      ]
     },
     "execution_count": 8,
     "metadata": {},
     "output_type": "execute_result"
    }
   ],
   "source": [
    "movies_df[\"movie\"].value_counts()"
   ]
  },
  {
   "cell_type": "code",
   "execution_count": 9,
   "metadata": {},
   "outputs": [
    {
     "data": {
      "text/html": [
       "<div>\n",
       "<style scoped>\n",
       "    .dataframe tbody tr th:only-of-type {\n",
       "        vertical-align: middle;\n",
       "    }\n",
       "\n",
       "    .dataframe tbody tr th {\n",
       "        vertical-align: top;\n",
       "    }\n",
       "\n",
       "    .dataframe thead th {\n",
       "        text-align: right;\n",
       "    }\n",
       "</style>\n",
       "<table border=\"1\" class=\"dataframe\">\n",
       "  <thead>\n",
       "    <tr style=\"text-align: right;\">\n",
       "      <th></th>\n",
       "      <th>movie</th>\n",
       "      <th>Avg rating</th>\n",
       "      <th>Counts</th>\n",
       "    </tr>\n",
       "  </thead>\n",
       "  <tbody>\n",
       "    <tr>\n",
       "      <th>3</th>\n",
       "      <td>Heat (1995)</td>\n",
       "      <td>3.836508</td>\n",
       "      <td>1260</td>\n",
       "    </tr>\n",
       "    <tr>\n",
       "      <th>8</th>\n",
       "      <td>Toy Story (1995)</td>\n",
       "      <td>3.959323</td>\n",
       "      <td>2569</td>\n",
       "    </tr>\n",
       "  </tbody>\n",
       "</table>\n",
       "</div>"
      ],
      "text/plain": [
       "              movie  Avg rating  Counts\n",
       "3       Heat (1995)    3.836508    1260\n",
       "8  Toy Story (1995)    3.959323    2569"
      ]
     },
     "execution_count": 9,
     "metadata": {},
     "output_type": "execute_result"
    }
   ],
   "source": [
    "r=movies_df.groupby(\"movie\").mean()[[\"rating\"]].reset_index()\n",
    "c=movies_df.groupby(\"movie\").count()[[\"userId\"]].reset_index()\n",
    "\n",
    "new=pd.merge(r,c,on=\"movie\")\n",
    "new.rename(columns={\"userId\":\"Counts\",\"rating\":\"Avg rating\"},inplace=True) #change col name\n",
    "\n",
    "new[(new[\"Avg rating\"]>3.5) & (new[\"Counts\"]>150)]"
   ]
  },
  {
   "cell_type": "code",
   "execution_count": 10,
   "metadata": {
    "colab": {
     "base_uri": "https://localhost:8080/"
    },
    "executionInfo": {
     "elapsed": 4,
     "status": "ok",
     "timestamp": 1669030339453,
     "user": {
      "displayName": "Salem Sameer Shaikh",
      "userId": "05291575250389740253"
     },
     "user_tz": -330
    },
    "id": "P-N4kOHo7x2D",
    "outputId": "5b420072-8765-4050-97cc-e4dc80390bbd"
   },
   "outputs": [
    {
     "data": {
      "text/plain": [
       "(8992, 3)"
      ]
     },
     "execution_count": 10,
     "metadata": {},
     "output_type": "execute_result"
    }
   ],
   "source": [
    "movies_df.sort_values('userId')\n",
    "movies_df.shape"
   ]
  },
  {
   "cell_type": "markdown",
   "metadata": {},
   "source": [
    "number of unique users in the dataset"
   ]
  },
  {
   "cell_type": "code",
   "execution_count": 11,
   "metadata": {
    "colab": {
     "base_uri": "https://localhost:8080/"
    },
    "executionInfo": {
     "elapsed": 411,
     "status": "ok",
     "timestamp": 1669030323550,
     "user": {
      "displayName": "Salem Sameer Shaikh",
      "userId": "05291575250389740253"
     },
     "user_tz": -330
    },
    "id": "sD6HOOaV7x2E",
    "outputId": "ceb57608-6add-475d-a580-f6977d55baf9"
   },
   "outputs": [
    {
     "data": {
      "text/plain": [
       "4081"
      ]
     },
     "execution_count": 11,
     "metadata": {},
     "output_type": "execute_result"
    }
   ],
   "source": [
    "\n",
    "len(movies_df.userId.unique())"
   ]
  },
  {
   "cell_type": "code",
   "execution_count": 12,
   "metadata": {
    "colab": {
     "base_uri": "https://localhost:8080/"
    },
    "executionInfo": {
     "elapsed": 648,
     "status": "ok",
     "timestamp": 1669030352624,
     "user": {
      "displayName": "Salem Sameer Shaikh",
      "userId": "05291575250389740253"
     },
     "user_tz": -330
    },
    "id": "N1Xhc5cs8HLu",
    "outputId": "5670cc32-f3ee-4a8e-8890-8a3998524c40"
   },
   "outputs": [
    {
     "data": {
      "text/plain": [
       "3.0    2736\n",
       "4.0    2660\n",
       "5.0    1394\n",
       "3.5     679\n",
       "2.0     542\n",
       "4.5     374\n",
       "2.5     277\n",
       "1.0     212\n",
       "1.5      61\n",
       "0.5      57\n",
       "Name: rating, dtype: int64"
      ]
     },
     "execution_count": 12,
     "metadata": {},
     "output_type": "execute_result"
    }
   ],
   "source": [
    "movies_df['rating'].value_counts()"
   ]
  },
  {
   "cell_type": "code",
   "execution_count": 13,
   "metadata": {
    "id": "g39lZyiE7x2F"
   },
   "outputs": [
    {
     "data": {
      "text/plain": [
       "10"
      ]
     },
     "execution_count": 13,
     "metadata": {},
     "output_type": "execute_result"
    }
   ],
   "source": [
    "len(movies_df.movie.unique())"
   ]
  },
  {
   "cell_type": "code",
   "execution_count": 14,
   "metadata": {
    "id": "tdyrCDlK8l3b"
   },
   "outputs": [
    {
     "data": {
      "text/plain": [
       "Toy Story (1995)                      2569\n",
       "GoldenEye (1995)                      1548\n",
       "Heat (1995)                           1260\n",
       "Jumanji (1995)                        1155\n",
       "Sabrina (1995)                         700\n",
       "Grumpier Old Men (1995)                685\n",
       "Father of the Bride Part II (1995)     657\n",
       "Sudden Death (1995)                    202\n",
       "Waiting to Exhale (1995)               138\n",
       "Tom and Huck (1995)                     78\n",
       "Name: movie, dtype: int64"
      ]
     },
     "execution_count": 14,
     "metadata": {},
     "output_type": "execute_result"
    }
   ],
   "source": [
    "movies_df.movie.value_counts()"
   ]
  },
  {
   "cell_type": "code",
   "execution_count": 15,
   "metadata": {
    "executionInfo": {
     "elapsed": 403,
     "status": "ok",
     "timestamp": 1669030401301,
     "user": {
      "displayName": "Salem Sameer Shaikh",
      "userId": "05291575250389740253"
     },
     "user_tz": -330
    },
    "id": "6wmjEoLS7x2F"
   },
   "outputs": [],
   "source": [
    "user_movies_df = movies_df.pivot(index='userId',\n",
    "                                 columns='movie',\n",
    "                                 values='rating')"
   ]
  },
  {
   "cell_type": "code",
   "execution_count": 16,
   "metadata": {
    "id": "GCgEK5Cd_SD8",
    "scrolled": true
   },
   "outputs": [
    {
     "data": {
      "text/html": [
       "<div>\n",
       "<style scoped>\n",
       "    .dataframe tbody tr th:only-of-type {\n",
       "        vertical-align: middle;\n",
       "    }\n",
       "\n",
       "    .dataframe tbody tr th {\n",
       "        vertical-align: top;\n",
       "    }\n",
       "\n",
       "    .dataframe thead th {\n",
       "        text-align: right;\n",
       "    }\n",
       "</style>\n",
       "<table border=\"1\" class=\"dataframe\">\n",
       "  <thead>\n",
       "    <tr style=\"text-align: right;\">\n",
       "      <th>movie</th>\n",
       "      <th>Father of the Bride Part II (1995)</th>\n",
       "      <th>GoldenEye (1995)</th>\n",
       "      <th>Grumpier Old Men (1995)</th>\n",
       "      <th>Heat (1995)</th>\n",
       "      <th>Jumanji (1995)</th>\n",
       "      <th>Sabrina (1995)</th>\n",
       "      <th>Sudden Death (1995)</th>\n",
       "      <th>Tom and Huck (1995)</th>\n",
       "      <th>Toy Story (1995)</th>\n",
       "      <th>Waiting to Exhale (1995)</th>\n",
       "    </tr>\n",
       "    <tr>\n",
       "      <th>userId</th>\n",
       "      <th></th>\n",
       "      <th></th>\n",
       "      <th></th>\n",
       "      <th></th>\n",
       "      <th></th>\n",
       "      <th></th>\n",
       "      <th></th>\n",
       "      <th></th>\n",
       "      <th></th>\n",
       "      <th></th>\n",
       "    </tr>\n",
       "  </thead>\n",
       "  <tbody>\n",
       "    <tr>\n",
       "      <th>1</th>\n",
       "      <td>NaN</td>\n",
       "      <td>NaN</td>\n",
       "      <td>NaN</td>\n",
       "      <td>NaN</td>\n",
       "      <td>3.5</td>\n",
       "      <td>NaN</td>\n",
       "      <td>NaN</td>\n",
       "      <td>NaN</td>\n",
       "      <td>NaN</td>\n",
       "      <td>NaN</td>\n",
       "    </tr>\n",
       "    <tr>\n",
       "      <th>2</th>\n",
       "      <td>NaN</td>\n",
       "      <td>NaN</td>\n",
       "      <td>4.0</td>\n",
       "      <td>NaN</td>\n",
       "      <td>NaN</td>\n",
       "      <td>NaN</td>\n",
       "      <td>NaN</td>\n",
       "      <td>NaN</td>\n",
       "      <td>NaN</td>\n",
       "      <td>NaN</td>\n",
       "    </tr>\n",
       "    <tr>\n",
       "      <th>3</th>\n",
       "      <td>NaN</td>\n",
       "      <td>NaN</td>\n",
       "      <td>NaN</td>\n",
       "      <td>NaN</td>\n",
       "      <td>NaN</td>\n",
       "      <td>NaN</td>\n",
       "      <td>NaN</td>\n",
       "      <td>NaN</td>\n",
       "      <td>4.0</td>\n",
       "      <td>NaN</td>\n",
       "    </tr>\n",
       "    <tr>\n",
       "      <th>4</th>\n",
       "      <td>NaN</td>\n",
       "      <td>4.0</td>\n",
       "      <td>NaN</td>\n",
       "      <td>3.0</td>\n",
       "      <td>NaN</td>\n",
       "      <td>NaN</td>\n",
       "      <td>NaN</td>\n",
       "      <td>NaN</td>\n",
       "      <td>NaN</td>\n",
       "      <td>NaN</td>\n",
       "    </tr>\n",
       "    <tr>\n",
       "      <th>5</th>\n",
       "      <td>NaN</td>\n",
       "      <td>NaN</td>\n",
       "      <td>NaN</td>\n",
       "      <td>NaN</td>\n",
       "      <td>3.0</td>\n",
       "      <td>NaN</td>\n",
       "      <td>NaN</td>\n",
       "      <td>NaN</td>\n",
       "      <td>NaN</td>\n",
       "      <td>NaN</td>\n",
       "    </tr>\n",
       "  </tbody>\n",
       "</table>\n",
       "</div>"
      ],
      "text/plain": [
       "movie   Father of the Bride Part II (1995)  GoldenEye (1995)  \\\n",
       "userId                                                         \n",
       "1                                      NaN               NaN   \n",
       "2                                      NaN               NaN   \n",
       "3                                      NaN               NaN   \n",
       "4                                      NaN               4.0   \n",
       "5                                      NaN               NaN   \n",
       "\n",
       "movie   Grumpier Old Men (1995)  Heat (1995)  Jumanji (1995)  Sabrina (1995)  \\\n",
       "userId                                                                         \n",
       "1                           NaN          NaN             3.5             NaN   \n",
       "2                           4.0          NaN             NaN             NaN   \n",
       "3                           NaN          NaN             NaN             NaN   \n",
       "4                           NaN          3.0             NaN             NaN   \n",
       "5                           NaN          NaN             3.0             NaN   \n",
       "\n",
       "movie   Sudden Death (1995)  Tom and Huck (1995)  Toy Story (1995)  \\\n",
       "userId                                                               \n",
       "1                       NaN                  NaN               NaN   \n",
       "2                       NaN                  NaN               NaN   \n",
       "3                       NaN                  NaN               4.0   \n",
       "4                       NaN                  NaN               NaN   \n",
       "5                       NaN                  NaN               NaN   \n",
       "\n",
       "movie   Waiting to Exhale (1995)  \n",
       "userId                            \n",
       "1                            NaN  \n",
       "2                            NaN  \n",
       "3                            NaN  \n",
       "4                            NaN  \n",
       "5                            NaN  "
      ]
     },
     "execution_count": 16,
     "metadata": {},
     "output_type": "execute_result"
    }
   ],
   "source": [
    "user_movies_df.head()"
   ]
  },
  {
   "cell_type": "markdown",
   "metadata": {
    "id": "-ftUGzm77x2J"
   },
   "source": [
    "user_movies_df.index = movies_df.userId.unique()"
   ]
  },
  {
   "cell_type": "code",
   "execution_count": 17,
   "metadata": {
    "id": "K5ysKNvU7x2K"
   },
   "outputs": [
    {
     "data": {
      "text/html": [
       "<div>\n",
       "<style scoped>\n",
       "    .dataframe tbody tr th:only-of-type {\n",
       "        vertical-align: middle;\n",
       "    }\n",
       "\n",
       "    .dataframe tbody tr th {\n",
       "        vertical-align: top;\n",
       "    }\n",
       "\n",
       "    .dataframe thead th {\n",
       "        text-align: right;\n",
       "    }\n",
       "</style>\n",
       "<table border=\"1\" class=\"dataframe\">\n",
       "  <thead>\n",
       "    <tr style=\"text-align: right;\">\n",
       "      <th>movie</th>\n",
       "      <th>Father of the Bride Part II (1995)</th>\n",
       "      <th>GoldenEye (1995)</th>\n",
       "      <th>Grumpier Old Men (1995)</th>\n",
       "      <th>Heat (1995)</th>\n",
       "      <th>Jumanji (1995)</th>\n",
       "      <th>Sabrina (1995)</th>\n",
       "      <th>Sudden Death (1995)</th>\n",
       "      <th>Tom and Huck (1995)</th>\n",
       "      <th>Toy Story (1995)</th>\n",
       "      <th>Waiting to Exhale (1995)</th>\n",
       "    </tr>\n",
       "    <tr>\n",
       "      <th>userId</th>\n",
       "      <th></th>\n",
       "      <th></th>\n",
       "      <th></th>\n",
       "      <th></th>\n",
       "      <th></th>\n",
       "      <th></th>\n",
       "      <th></th>\n",
       "      <th></th>\n",
       "      <th></th>\n",
       "      <th></th>\n",
       "    </tr>\n",
       "  </thead>\n",
       "  <tbody>\n",
       "    <tr>\n",
       "      <th>1</th>\n",
       "      <td>NaN</td>\n",
       "      <td>NaN</td>\n",
       "      <td>NaN</td>\n",
       "      <td>NaN</td>\n",
       "      <td>3.5</td>\n",
       "      <td>NaN</td>\n",
       "      <td>NaN</td>\n",
       "      <td>NaN</td>\n",
       "      <td>NaN</td>\n",
       "      <td>NaN</td>\n",
       "    </tr>\n",
       "    <tr>\n",
       "      <th>2</th>\n",
       "      <td>NaN</td>\n",
       "      <td>NaN</td>\n",
       "      <td>4.0</td>\n",
       "      <td>NaN</td>\n",
       "      <td>NaN</td>\n",
       "      <td>NaN</td>\n",
       "      <td>NaN</td>\n",
       "      <td>NaN</td>\n",
       "      <td>NaN</td>\n",
       "      <td>NaN</td>\n",
       "    </tr>\n",
       "    <tr>\n",
       "      <th>3</th>\n",
       "      <td>NaN</td>\n",
       "      <td>NaN</td>\n",
       "      <td>NaN</td>\n",
       "      <td>NaN</td>\n",
       "      <td>NaN</td>\n",
       "      <td>NaN</td>\n",
       "      <td>NaN</td>\n",
       "      <td>NaN</td>\n",
       "      <td>4.0</td>\n",
       "      <td>NaN</td>\n",
       "    </tr>\n",
       "    <tr>\n",
       "      <th>4</th>\n",
       "      <td>NaN</td>\n",
       "      <td>4.0</td>\n",
       "      <td>NaN</td>\n",
       "      <td>3.0</td>\n",
       "      <td>NaN</td>\n",
       "      <td>NaN</td>\n",
       "      <td>NaN</td>\n",
       "      <td>NaN</td>\n",
       "      <td>NaN</td>\n",
       "      <td>NaN</td>\n",
       "    </tr>\n",
       "    <tr>\n",
       "      <th>5</th>\n",
       "      <td>NaN</td>\n",
       "      <td>NaN</td>\n",
       "      <td>NaN</td>\n",
       "      <td>NaN</td>\n",
       "      <td>3.0</td>\n",
       "      <td>NaN</td>\n",
       "      <td>NaN</td>\n",
       "      <td>NaN</td>\n",
       "      <td>NaN</td>\n",
       "      <td>NaN</td>\n",
       "    </tr>\n",
       "    <tr>\n",
       "      <th>...</th>\n",
       "      <td>...</td>\n",
       "      <td>...</td>\n",
       "      <td>...</td>\n",
       "      <td>...</td>\n",
       "      <td>...</td>\n",
       "      <td>...</td>\n",
       "      <td>...</td>\n",
       "      <td>...</td>\n",
       "      <td>...</td>\n",
       "      <td>...</td>\n",
       "    </tr>\n",
       "    <tr>\n",
       "      <th>7115</th>\n",
       "      <td>4.0</td>\n",
       "      <td>NaN</td>\n",
       "      <td>NaN</td>\n",
       "      <td>NaN</td>\n",
       "      <td>NaN</td>\n",
       "      <td>NaN</td>\n",
       "      <td>NaN</td>\n",
       "      <td>NaN</td>\n",
       "      <td>NaN</td>\n",
       "      <td>NaN</td>\n",
       "    </tr>\n",
       "    <tr>\n",
       "      <th>7116</th>\n",
       "      <td>3.5</td>\n",
       "      <td>NaN</td>\n",
       "      <td>NaN</td>\n",
       "      <td>NaN</td>\n",
       "      <td>NaN</td>\n",
       "      <td>NaN</td>\n",
       "      <td>NaN</td>\n",
       "      <td>NaN</td>\n",
       "      <td>4.0</td>\n",
       "      <td>NaN</td>\n",
       "    </tr>\n",
       "    <tr>\n",
       "      <th>7117</th>\n",
       "      <td>NaN</td>\n",
       "      <td>3.0</td>\n",
       "      <td>4.0</td>\n",
       "      <td>5.0</td>\n",
       "      <td>NaN</td>\n",
       "      <td>3.0</td>\n",
       "      <td>1.0</td>\n",
       "      <td>NaN</td>\n",
       "      <td>4.0</td>\n",
       "      <td>NaN</td>\n",
       "    </tr>\n",
       "    <tr>\n",
       "      <th>7119</th>\n",
       "      <td>NaN</td>\n",
       "      <td>NaN</td>\n",
       "      <td>NaN</td>\n",
       "      <td>NaN</td>\n",
       "      <td>NaN</td>\n",
       "      <td>NaN</td>\n",
       "      <td>NaN</td>\n",
       "      <td>NaN</td>\n",
       "      <td>5.0</td>\n",
       "      <td>NaN</td>\n",
       "    </tr>\n",
       "    <tr>\n",
       "      <th>7120</th>\n",
       "      <td>NaN</td>\n",
       "      <td>NaN</td>\n",
       "      <td>NaN</td>\n",
       "      <td>NaN</td>\n",
       "      <td>4.0</td>\n",
       "      <td>4.0</td>\n",
       "      <td>NaN</td>\n",
       "      <td>NaN</td>\n",
       "      <td>4.5</td>\n",
       "      <td>NaN</td>\n",
       "    </tr>\n",
       "  </tbody>\n",
       "</table>\n",
       "<p>4081 rows × 10 columns</p>\n",
       "</div>"
      ],
      "text/plain": [
       "movie   Father of the Bride Part II (1995)  GoldenEye (1995)  \\\n",
       "userId                                                         \n",
       "1                                      NaN               NaN   \n",
       "2                                      NaN               NaN   \n",
       "3                                      NaN               NaN   \n",
       "4                                      NaN               4.0   \n",
       "5                                      NaN               NaN   \n",
       "...                                    ...               ...   \n",
       "7115                                   4.0               NaN   \n",
       "7116                                   3.5               NaN   \n",
       "7117                                   NaN               3.0   \n",
       "7119                                   NaN               NaN   \n",
       "7120                                   NaN               NaN   \n",
       "\n",
       "movie   Grumpier Old Men (1995)  Heat (1995)  Jumanji (1995)  Sabrina (1995)  \\\n",
       "userId                                                                         \n",
       "1                           NaN          NaN             3.5             NaN   \n",
       "2                           4.0          NaN             NaN             NaN   \n",
       "3                           NaN          NaN             NaN             NaN   \n",
       "4                           NaN          3.0             NaN             NaN   \n",
       "5                           NaN          NaN             3.0             NaN   \n",
       "...                         ...          ...             ...             ...   \n",
       "7115                        NaN          NaN             NaN             NaN   \n",
       "7116                        NaN          NaN             NaN             NaN   \n",
       "7117                        4.0          5.0             NaN             3.0   \n",
       "7119                        NaN          NaN             NaN             NaN   \n",
       "7120                        NaN          NaN             4.0             4.0   \n",
       "\n",
       "movie   Sudden Death (1995)  Tom and Huck (1995)  Toy Story (1995)  \\\n",
       "userId                                                               \n",
       "1                       NaN                  NaN               NaN   \n",
       "2                       NaN                  NaN               NaN   \n",
       "3                       NaN                  NaN               4.0   \n",
       "4                       NaN                  NaN               NaN   \n",
       "5                       NaN                  NaN               NaN   \n",
       "...                     ...                  ...               ...   \n",
       "7115                    NaN                  NaN               NaN   \n",
       "7116                    NaN                  NaN               4.0   \n",
       "7117                    1.0                  NaN               4.0   \n",
       "7119                    NaN                  NaN               5.0   \n",
       "7120                    NaN                  NaN               4.5   \n",
       "\n",
       "movie   Waiting to Exhale (1995)  \n",
       "userId                            \n",
       "1                            NaN  \n",
       "2                            NaN  \n",
       "3                            NaN  \n",
       "4                            NaN  \n",
       "5                            NaN  \n",
       "...                          ...  \n",
       "7115                         NaN  \n",
       "7116                         NaN  \n",
       "7117                         NaN  \n",
       "7119                         NaN  \n",
       "7120                         NaN  \n",
       "\n",
       "[4081 rows x 10 columns]"
      ]
     },
     "execution_count": 17,
     "metadata": {},
     "output_type": "execute_result"
    }
   ],
   "source": [
    "user_movies_df"
   ]
  },
  {
   "cell_type": "markdown",
   "metadata": {},
   "source": [
    "Impute those NaNs with 0 values"
   ]
  },
  {
   "cell_type": "code",
   "execution_count": 18,
   "metadata": {
    "executionInfo": {
     "elapsed": 384,
     "status": "ok",
     "timestamp": 1669030426894,
     "user": {
      "displayName": "Salem Sameer Shaikh",
      "userId": "05291575250389740253"
     },
     "user_tz": -330
    },
    "id": "QV7G_zHN7x2K"
   },
   "outputs": [],
   "source": [
    "\n",
    "user_movies_df.fillna(0, inplace=True)"
   ]
  },
  {
   "cell_type": "code",
   "execution_count": 19,
   "metadata": {
    "colab": {
     "base_uri": "https://localhost:8080/",
     "height": 551
    },
    "executionInfo": {
     "elapsed": 9,
     "status": "ok",
     "timestamp": 1669030429348,
     "user": {
      "displayName": "Salem Sameer Shaikh",
      "userId": "05291575250389740253"
     },
     "user_tz": -330
    },
    "id": "c1AmBb0N7x2L",
    "outputId": "74ec23ea-fc34-4f11-b03e-40cc4dd9c8dc"
   },
   "outputs": [
    {
     "data": {
      "text/html": [
       "<div>\n",
       "<style scoped>\n",
       "    .dataframe tbody tr th:only-of-type {\n",
       "        vertical-align: middle;\n",
       "    }\n",
       "\n",
       "    .dataframe tbody tr th {\n",
       "        vertical-align: top;\n",
       "    }\n",
       "\n",
       "    .dataframe thead th {\n",
       "        text-align: right;\n",
       "    }\n",
       "</style>\n",
       "<table border=\"1\" class=\"dataframe\">\n",
       "  <thead>\n",
       "    <tr style=\"text-align: right;\">\n",
       "      <th>movie</th>\n",
       "      <th>Father of the Bride Part II (1995)</th>\n",
       "      <th>GoldenEye (1995)</th>\n",
       "      <th>Grumpier Old Men (1995)</th>\n",
       "      <th>Heat (1995)</th>\n",
       "      <th>Jumanji (1995)</th>\n",
       "      <th>Sabrina (1995)</th>\n",
       "      <th>Sudden Death (1995)</th>\n",
       "      <th>Tom and Huck (1995)</th>\n",
       "      <th>Toy Story (1995)</th>\n",
       "      <th>Waiting to Exhale (1995)</th>\n",
       "    </tr>\n",
       "    <tr>\n",
       "      <th>userId</th>\n",
       "      <th></th>\n",
       "      <th></th>\n",
       "      <th></th>\n",
       "      <th></th>\n",
       "      <th></th>\n",
       "      <th></th>\n",
       "      <th></th>\n",
       "      <th></th>\n",
       "      <th></th>\n",
       "      <th></th>\n",
       "    </tr>\n",
       "  </thead>\n",
       "  <tbody>\n",
       "    <tr>\n",
       "      <th>1</th>\n",
       "      <td>0.0</td>\n",
       "      <td>0.0</td>\n",
       "      <td>0.0</td>\n",
       "      <td>0.0</td>\n",
       "      <td>3.5</td>\n",
       "      <td>0.0</td>\n",
       "      <td>0.0</td>\n",
       "      <td>0.0</td>\n",
       "      <td>0.0</td>\n",
       "      <td>0.0</td>\n",
       "    </tr>\n",
       "    <tr>\n",
       "      <th>2</th>\n",
       "      <td>0.0</td>\n",
       "      <td>0.0</td>\n",
       "      <td>4.0</td>\n",
       "      <td>0.0</td>\n",
       "      <td>0.0</td>\n",
       "      <td>0.0</td>\n",
       "      <td>0.0</td>\n",
       "      <td>0.0</td>\n",
       "      <td>0.0</td>\n",
       "      <td>0.0</td>\n",
       "    </tr>\n",
       "    <tr>\n",
       "      <th>3</th>\n",
       "      <td>0.0</td>\n",
       "      <td>0.0</td>\n",
       "      <td>0.0</td>\n",
       "      <td>0.0</td>\n",
       "      <td>0.0</td>\n",
       "      <td>0.0</td>\n",
       "      <td>0.0</td>\n",
       "      <td>0.0</td>\n",
       "      <td>4.0</td>\n",
       "      <td>0.0</td>\n",
       "    </tr>\n",
       "    <tr>\n",
       "      <th>4</th>\n",
       "      <td>0.0</td>\n",
       "      <td>4.0</td>\n",
       "      <td>0.0</td>\n",
       "      <td>3.0</td>\n",
       "      <td>0.0</td>\n",
       "      <td>0.0</td>\n",
       "      <td>0.0</td>\n",
       "      <td>0.0</td>\n",
       "      <td>0.0</td>\n",
       "      <td>0.0</td>\n",
       "    </tr>\n",
       "    <tr>\n",
       "      <th>5</th>\n",
       "      <td>0.0</td>\n",
       "      <td>0.0</td>\n",
       "      <td>0.0</td>\n",
       "      <td>0.0</td>\n",
       "      <td>3.0</td>\n",
       "      <td>0.0</td>\n",
       "      <td>0.0</td>\n",
       "      <td>0.0</td>\n",
       "      <td>0.0</td>\n",
       "      <td>0.0</td>\n",
       "    </tr>\n",
       "    <tr>\n",
       "      <th>...</th>\n",
       "      <td>...</td>\n",
       "      <td>...</td>\n",
       "      <td>...</td>\n",
       "      <td>...</td>\n",
       "      <td>...</td>\n",
       "      <td>...</td>\n",
       "      <td>...</td>\n",
       "      <td>...</td>\n",
       "      <td>...</td>\n",
       "      <td>...</td>\n",
       "    </tr>\n",
       "    <tr>\n",
       "      <th>7115</th>\n",
       "      <td>4.0</td>\n",
       "      <td>0.0</td>\n",
       "      <td>0.0</td>\n",
       "      <td>0.0</td>\n",
       "      <td>0.0</td>\n",
       "      <td>0.0</td>\n",
       "      <td>0.0</td>\n",
       "      <td>0.0</td>\n",
       "      <td>0.0</td>\n",
       "      <td>0.0</td>\n",
       "    </tr>\n",
       "    <tr>\n",
       "      <th>7116</th>\n",
       "      <td>3.5</td>\n",
       "      <td>0.0</td>\n",
       "      <td>0.0</td>\n",
       "      <td>0.0</td>\n",
       "      <td>0.0</td>\n",
       "      <td>0.0</td>\n",
       "      <td>0.0</td>\n",
       "      <td>0.0</td>\n",
       "      <td>4.0</td>\n",
       "      <td>0.0</td>\n",
       "    </tr>\n",
       "    <tr>\n",
       "      <th>7117</th>\n",
       "      <td>0.0</td>\n",
       "      <td>3.0</td>\n",
       "      <td>4.0</td>\n",
       "      <td>5.0</td>\n",
       "      <td>0.0</td>\n",
       "      <td>3.0</td>\n",
       "      <td>1.0</td>\n",
       "      <td>0.0</td>\n",
       "      <td>4.0</td>\n",
       "      <td>0.0</td>\n",
       "    </tr>\n",
       "    <tr>\n",
       "      <th>7119</th>\n",
       "      <td>0.0</td>\n",
       "      <td>0.0</td>\n",
       "      <td>0.0</td>\n",
       "      <td>0.0</td>\n",
       "      <td>0.0</td>\n",
       "      <td>0.0</td>\n",
       "      <td>0.0</td>\n",
       "      <td>0.0</td>\n",
       "      <td>5.0</td>\n",
       "      <td>0.0</td>\n",
       "    </tr>\n",
       "    <tr>\n",
       "      <th>7120</th>\n",
       "      <td>0.0</td>\n",
       "      <td>0.0</td>\n",
       "      <td>0.0</td>\n",
       "      <td>0.0</td>\n",
       "      <td>4.0</td>\n",
       "      <td>4.0</td>\n",
       "      <td>0.0</td>\n",
       "      <td>0.0</td>\n",
       "      <td>4.5</td>\n",
       "      <td>0.0</td>\n",
       "    </tr>\n",
       "  </tbody>\n",
       "</table>\n",
       "<p>4081 rows × 10 columns</p>\n",
       "</div>"
      ],
      "text/plain": [
       "movie   Father of the Bride Part II (1995)  GoldenEye (1995)  \\\n",
       "userId                                                         \n",
       "1                                      0.0               0.0   \n",
       "2                                      0.0               0.0   \n",
       "3                                      0.0               0.0   \n",
       "4                                      0.0               4.0   \n",
       "5                                      0.0               0.0   \n",
       "...                                    ...               ...   \n",
       "7115                                   4.0               0.0   \n",
       "7116                                   3.5               0.0   \n",
       "7117                                   0.0               3.0   \n",
       "7119                                   0.0               0.0   \n",
       "7120                                   0.0               0.0   \n",
       "\n",
       "movie   Grumpier Old Men (1995)  Heat (1995)  Jumanji (1995)  Sabrina (1995)  \\\n",
       "userId                                                                         \n",
       "1                           0.0          0.0             3.5             0.0   \n",
       "2                           4.0          0.0             0.0             0.0   \n",
       "3                           0.0          0.0             0.0             0.0   \n",
       "4                           0.0          3.0             0.0             0.0   \n",
       "5                           0.0          0.0             3.0             0.0   \n",
       "...                         ...          ...             ...             ...   \n",
       "7115                        0.0          0.0             0.0             0.0   \n",
       "7116                        0.0          0.0             0.0             0.0   \n",
       "7117                        4.0          5.0             0.0             3.0   \n",
       "7119                        0.0          0.0             0.0             0.0   \n",
       "7120                        0.0          0.0             4.0             4.0   \n",
       "\n",
       "movie   Sudden Death (1995)  Tom and Huck (1995)  Toy Story (1995)  \\\n",
       "userId                                                               \n",
       "1                       0.0                  0.0               0.0   \n",
       "2                       0.0                  0.0               0.0   \n",
       "3                       0.0                  0.0               4.0   \n",
       "4                       0.0                  0.0               0.0   \n",
       "5                       0.0                  0.0               0.0   \n",
       "...                     ...                  ...               ...   \n",
       "7115                    0.0                  0.0               0.0   \n",
       "7116                    0.0                  0.0               4.0   \n",
       "7117                    1.0                  0.0               4.0   \n",
       "7119                    0.0                  0.0               5.0   \n",
       "7120                    0.0                  0.0               4.5   \n",
       "\n",
       "movie   Waiting to Exhale (1995)  \n",
       "userId                            \n",
       "1                            0.0  \n",
       "2                            0.0  \n",
       "3                            0.0  \n",
       "4                            0.0  \n",
       "5                            0.0  \n",
       "...                          ...  \n",
       "7115                         0.0  \n",
       "7116                         0.0  \n",
       "7117                         0.0  \n",
       "7119                         0.0  \n",
       "7120                         0.0  \n",
       "\n",
       "[4081 rows x 10 columns]"
      ]
     },
     "execution_count": 19,
     "metadata": {},
     "output_type": "execute_result"
    }
   ],
   "source": [
    "user_movies_df"
   ]
  },
  {
   "cell_type": "markdown",
   "metadata": {},
   "source": [
    "Calculating Cosine Similarity between Users"
   ]
  },
  {
   "cell_type": "code",
   "execution_count": 20,
   "metadata": {
    "executionInfo": {
     "elapsed": 665,
     "status": "ok",
     "timestamp": 1669030472846,
     "user": {
      "displayName": "Salem Sameer Shaikh",
      "userId": "05291575250389740253"
     },
     "user_tz": -330
    },
    "id": "MtdosGFq7x2L"
   },
   "outputs": [],
   "source": [
    "\n",
    "from sklearn.metrics import pairwise_distances\n",
    "from scipy.spatial.distance import cosine, correlation"
   ]
  },
  {
   "cell_type": "code",
   "execution_count": 21,
   "metadata": {
    "executionInfo": {
     "elapsed": 667,
     "status": "ok",
     "timestamp": 1669030475236,
     "user": {
      "displayName": "Salem Sameer Shaikh",
      "userId": "05291575250389740253"
     },
     "user_tz": -330
    },
    "id": "-VX9pjgX7x2L"
   },
   "outputs": [],
   "source": [
    "user_sim = pairwise_distances( user_movies_df.values,metric='euclidean')"
   ]
  },
  {
   "cell_type": "code",
   "execution_count": 22,
   "metadata": {
    "id": "PZHrpgKz7x2M"
   },
   "outputs": [
    {
     "data": {
      "text/plain": [
       "array([[0.        , 5.31507291, 5.31507291, ..., 9.39414711, 6.10327781,\n",
       "        6.04152299],\n",
       "       [5.31507291, 0.        , 5.65685425, ..., 7.74596669, 6.40312424,\n",
       "        8.26135582],\n",
       "       [5.31507291, 5.65685425, 0.        , ..., 7.74596669, 1.        ,\n",
       "        5.67890835],\n",
       "       ...,\n",
       "       [9.39414711, 7.74596669, 7.74596669, ..., 0.        , 7.81024968,\n",
       "        8.26135582],\n",
       "       [6.10327781, 6.40312424, 1.        , ..., 7.81024968, 0.        ,\n",
       "        5.67890835],\n",
       "       [6.04152299, 8.26135582, 5.67890835, ..., 8.26135582, 5.67890835,\n",
       "        0.        ]])"
      ]
     },
     "execution_count": 22,
     "metadata": {},
     "output_type": "execute_result"
    }
   ],
   "source": [
    "user_sim"
   ]
  },
  {
   "cell_type": "markdown",
   "metadata": {},
   "source": [
    "Store the results in a dataframe"
   ]
  },
  {
   "cell_type": "code",
   "execution_count": 23,
   "metadata": {
    "executionInfo": {
     "elapsed": 1388,
     "status": "ok",
     "timestamp": 1669030505859,
     "user": {
      "displayName": "Salem Sameer Shaikh",
      "userId": "05291575250389740253"
     },
     "user_tz": -330
    },
    "id": "lPvxGyPd7x2M"
   },
   "outputs": [
    {
     "data": {
      "text/html": [
       "<div>\n",
       "<style scoped>\n",
       "    .dataframe tbody tr th:only-of-type {\n",
       "        vertical-align: middle;\n",
       "    }\n",
       "\n",
       "    .dataframe tbody tr th {\n",
       "        vertical-align: top;\n",
       "    }\n",
       "\n",
       "    .dataframe thead th {\n",
       "        text-align: right;\n",
       "    }\n",
       "</style>\n",
       "<table border=\"1\" class=\"dataframe\">\n",
       "  <thead>\n",
       "    <tr style=\"text-align: right;\">\n",
       "      <th></th>\n",
       "      <th>0</th>\n",
       "      <th>1</th>\n",
       "      <th>2</th>\n",
       "      <th>3</th>\n",
       "      <th>4</th>\n",
       "      <th>5</th>\n",
       "      <th>6</th>\n",
       "      <th>7</th>\n",
       "      <th>8</th>\n",
       "      <th>9</th>\n",
       "      <th>...</th>\n",
       "      <th>4071</th>\n",
       "      <th>4072</th>\n",
       "      <th>4073</th>\n",
       "      <th>4074</th>\n",
       "      <th>4075</th>\n",
       "      <th>4076</th>\n",
       "      <th>4077</th>\n",
       "      <th>4078</th>\n",
       "      <th>4079</th>\n",
       "      <th>4080</th>\n",
       "    </tr>\n",
       "  </thead>\n",
       "  <tbody>\n",
       "    <tr>\n",
       "      <th>0</th>\n",
       "      <td>0.000000</td>\n",
       "      <td>5.315073</td>\n",
       "      <td>5.315073</td>\n",
       "      <td>6.103278</td>\n",
       "      <td>0.500000</td>\n",
       "      <td>8.440972</td>\n",
       "      <td>5.500000</td>\n",
       "      <td>8.845903</td>\n",
       "      <td>5.315073</td>\n",
       "      <td>6.224950</td>\n",
       "      <td>...</td>\n",
       "      <td>4.031129</td>\n",
       "      <td>5.315073</td>\n",
       "      <td>1.500000</td>\n",
       "      <td>4.031129</td>\n",
       "      <td>5.500000</td>\n",
       "      <td>5.315073</td>\n",
       "      <td>6.363961</td>\n",
       "      <td>9.394147</td>\n",
       "      <td>6.103278</td>\n",
       "      <td>6.041523</td>\n",
       "    </tr>\n",
       "    <tr>\n",
       "      <th>1</th>\n",
       "      <td>5.315073</td>\n",
       "      <td>0.000000</td>\n",
       "      <td>5.656854</td>\n",
       "      <td>6.403124</td>\n",
       "      <td>5.000000</td>\n",
       "      <td>7.141428</td>\n",
       "      <td>3.162278</td>\n",
       "      <td>6.480741</td>\n",
       "      <td>5.656854</td>\n",
       "      <td>6.519202</td>\n",
       "      <td>...</td>\n",
       "      <td>4.472136</td>\n",
       "      <td>5.656854</td>\n",
       "      <td>4.472136</td>\n",
       "      <td>6.928203</td>\n",
       "      <td>5.830952</td>\n",
       "      <td>5.656854</td>\n",
       "      <td>6.652067</td>\n",
       "      <td>7.745967</td>\n",
       "      <td>6.403124</td>\n",
       "      <td>8.261356</td>\n",
       "    </tr>\n",
       "    <tr>\n",
       "      <th>2</th>\n",
       "      <td>5.315073</td>\n",
       "      <td>5.656854</td>\n",
       "      <td>0.000000</td>\n",
       "      <td>6.403124</td>\n",
       "      <td>5.000000</td>\n",
       "      <td>5.916080</td>\n",
       "      <td>5.830952</td>\n",
       "      <td>7.071068</td>\n",
       "      <td>0.000000</td>\n",
       "      <td>2.549510</td>\n",
       "      <td>...</td>\n",
       "      <td>4.472136</td>\n",
       "      <td>0.000000</td>\n",
       "      <td>4.472136</td>\n",
       "      <td>4.000000</td>\n",
       "      <td>5.830952</td>\n",
       "      <td>5.656854</td>\n",
       "      <td>3.500000</td>\n",
       "      <td>7.745967</td>\n",
       "      <td>1.000000</td>\n",
       "      <td>5.678908</td>\n",
       "    </tr>\n",
       "    <tr>\n",
       "      <th>3</th>\n",
       "      <td>6.103278</td>\n",
       "      <td>6.403124</td>\n",
       "      <td>6.403124</td>\n",
       "      <td>0.000000</td>\n",
       "      <td>5.830952</td>\n",
       "      <td>9.165151</td>\n",
       "      <td>6.557439</td>\n",
       "      <td>6.403124</td>\n",
       "      <td>6.403124</td>\n",
       "      <td>5.612486</td>\n",
       "      <td>...</td>\n",
       "      <td>3.605551</td>\n",
       "      <td>6.403124</td>\n",
       "      <td>5.385165</td>\n",
       "      <td>7.549834</td>\n",
       "      <td>1.000000</td>\n",
       "      <td>6.403124</td>\n",
       "      <td>7.297260</td>\n",
       "      <td>6.855655</td>\n",
       "      <td>7.071068</td>\n",
       "      <td>8.789198</td>\n",
       "    </tr>\n",
       "    <tr>\n",
       "      <th>4</th>\n",
       "      <td>0.500000</td>\n",
       "      <td>5.000000</td>\n",
       "      <td>5.000000</td>\n",
       "      <td>5.830952</td>\n",
       "      <td>0.000000</td>\n",
       "      <td>8.246211</td>\n",
       "      <td>5.196152</td>\n",
       "      <td>8.660254</td>\n",
       "      <td>5.000000</td>\n",
       "      <td>5.958188</td>\n",
       "      <td>...</td>\n",
       "      <td>3.605551</td>\n",
       "      <td>5.000000</td>\n",
       "      <td>1.000000</td>\n",
       "      <td>4.123106</td>\n",
       "      <td>5.196152</td>\n",
       "      <td>5.000000</td>\n",
       "      <td>6.103278</td>\n",
       "      <td>9.219544</td>\n",
       "      <td>5.830952</td>\n",
       "      <td>6.103278</td>\n",
       "    </tr>\n",
       "    <tr>\n",
       "      <th>...</th>\n",
       "      <td>...</td>\n",
       "      <td>...</td>\n",
       "      <td>...</td>\n",
       "      <td>...</td>\n",
       "      <td>...</td>\n",
       "      <td>...</td>\n",
       "      <td>...</td>\n",
       "      <td>...</td>\n",
       "      <td>...</td>\n",
       "      <td>...</td>\n",
       "      <td>...</td>\n",
       "      <td>...</td>\n",
       "      <td>...</td>\n",
       "      <td>...</td>\n",
       "      <td>...</td>\n",
       "      <td>...</td>\n",
       "      <td>...</td>\n",
       "      <td>...</td>\n",
       "      <td>...</td>\n",
       "      <td>...</td>\n",
       "      <td>...</td>\n",
       "    </tr>\n",
       "    <tr>\n",
       "      <th>4076</th>\n",
       "      <td>5.315073</td>\n",
       "      <td>5.656854</td>\n",
       "      <td>5.656854</td>\n",
       "      <td>6.403124</td>\n",
       "      <td>5.000000</td>\n",
       "      <td>8.660254</td>\n",
       "      <td>5.830952</td>\n",
       "      <td>9.055385</td>\n",
       "      <td>5.656854</td>\n",
       "      <td>6.519202</td>\n",
       "      <td>...</td>\n",
       "      <td>4.472136</td>\n",
       "      <td>5.656854</td>\n",
       "      <td>4.472136</td>\n",
       "      <td>6.928203</td>\n",
       "      <td>5.830952</td>\n",
       "      <td>0.000000</td>\n",
       "      <td>4.031129</td>\n",
       "      <td>9.591663</td>\n",
       "      <td>6.403124</td>\n",
       "      <td>8.261356</td>\n",
       "    </tr>\n",
       "    <tr>\n",
       "      <th>4077</th>\n",
       "      <td>6.363961</td>\n",
       "      <td>6.652067</td>\n",
       "      <td>3.500000</td>\n",
       "      <td>7.297260</td>\n",
       "      <td>6.103278</td>\n",
       "      <td>6.873864</td>\n",
       "      <td>6.800735</td>\n",
       "      <td>7.889867</td>\n",
       "      <td>3.500000</td>\n",
       "      <td>4.330127</td>\n",
       "      <td>...</td>\n",
       "      <td>5.678908</td>\n",
       "      <td>3.500000</td>\n",
       "      <td>5.678908</td>\n",
       "      <td>5.315073</td>\n",
       "      <td>6.800735</td>\n",
       "      <td>4.031129</td>\n",
       "      <td>0.000000</td>\n",
       "      <td>8.500000</td>\n",
       "      <td>3.640055</td>\n",
       "      <td>6.670832</td>\n",
       "    </tr>\n",
       "    <tr>\n",
       "      <th>4078</th>\n",
       "      <td>9.394147</td>\n",
       "      <td>7.745967</td>\n",
       "      <td>7.745967</td>\n",
       "      <td>6.855655</td>\n",
       "      <td>9.219544</td>\n",
       "      <td>6.403124</td>\n",
       "      <td>7.211103</td>\n",
       "      <td>4.000000</td>\n",
       "      <td>7.745967</td>\n",
       "      <td>7.176350</td>\n",
       "      <td>...</td>\n",
       "      <td>8.246211</td>\n",
       "      <td>7.745967</td>\n",
       "      <td>8.944272</td>\n",
       "      <td>8.717798</td>\n",
       "      <td>6.782330</td>\n",
       "      <td>9.591663</td>\n",
       "      <td>8.500000</td>\n",
       "      <td>0.000000</td>\n",
       "      <td>7.810250</td>\n",
       "      <td>8.261356</td>\n",
       "    </tr>\n",
       "    <tr>\n",
       "      <th>4079</th>\n",
       "      <td>6.103278</td>\n",
       "      <td>6.403124</td>\n",
       "      <td>1.000000</td>\n",
       "      <td>7.071068</td>\n",
       "      <td>5.830952</td>\n",
       "      <td>5.830952</td>\n",
       "      <td>6.557439</td>\n",
       "      <td>7.141428</td>\n",
       "      <td>1.000000</td>\n",
       "      <td>2.549510</td>\n",
       "      <td>...</td>\n",
       "      <td>5.385165</td>\n",
       "      <td>1.000000</td>\n",
       "      <td>5.385165</td>\n",
       "      <td>4.123106</td>\n",
       "      <td>6.557439</td>\n",
       "      <td>6.403124</td>\n",
       "      <td>3.640055</td>\n",
       "      <td>7.810250</td>\n",
       "      <td>0.000000</td>\n",
       "      <td>5.678908</td>\n",
       "    </tr>\n",
       "    <tr>\n",
       "      <th>4080</th>\n",
       "      <td>6.041523</td>\n",
       "      <td>8.261356</td>\n",
       "      <td>5.678908</td>\n",
       "      <td>8.789198</td>\n",
       "      <td>6.103278</td>\n",
       "      <td>5.123475</td>\n",
       "      <td>6.800735</td>\n",
       "      <td>9.069179</td>\n",
       "      <td>5.678908</td>\n",
       "      <td>6.184658</td>\n",
       "      <td>...</td>\n",
       "      <td>7.500000</td>\n",
       "      <td>5.678908</td>\n",
       "      <td>6.344289</td>\n",
       "      <td>4.031129</td>\n",
       "      <td>8.381527</td>\n",
       "      <td>8.261356</td>\n",
       "      <td>6.670832</td>\n",
       "      <td>8.261356</td>\n",
       "      <td>5.678908</td>\n",
       "      <td>0.000000</td>\n",
       "    </tr>\n",
       "  </tbody>\n",
       "</table>\n",
       "<p>4081 rows × 4081 columns</p>\n",
       "</div>"
      ],
      "text/plain": [
       "          0         1         2         3         4         5         6     \\\n",
       "0     0.000000  5.315073  5.315073  6.103278  0.500000  8.440972  5.500000   \n",
       "1     5.315073  0.000000  5.656854  6.403124  5.000000  7.141428  3.162278   \n",
       "2     5.315073  5.656854  0.000000  6.403124  5.000000  5.916080  5.830952   \n",
       "3     6.103278  6.403124  6.403124  0.000000  5.830952  9.165151  6.557439   \n",
       "4     0.500000  5.000000  5.000000  5.830952  0.000000  8.246211  5.196152   \n",
       "...        ...       ...       ...       ...       ...       ...       ...   \n",
       "4076  5.315073  5.656854  5.656854  6.403124  5.000000  8.660254  5.830952   \n",
       "4077  6.363961  6.652067  3.500000  7.297260  6.103278  6.873864  6.800735   \n",
       "4078  9.394147  7.745967  7.745967  6.855655  9.219544  6.403124  7.211103   \n",
       "4079  6.103278  6.403124  1.000000  7.071068  5.830952  5.830952  6.557439   \n",
       "4080  6.041523  8.261356  5.678908  8.789198  6.103278  5.123475  6.800735   \n",
       "\n",
       "          7         8         9     ...      4071      4072      4073  \\\n",
       "0     8.845903  5.315073  6.224950  ...  4.031129  5.315073  1.500000   \n",
       "1     6.480741  5.656854  6.519202  ...  4.472136  5.656854  4.472136   \n",
       "2     7.071068  0.000000  2.549510  ...  4.472136  0.000000  4.472136   \n",
       "3     6.403124  6.403124  5.612486  ...  3.605551  6.403124  5.385165   \n",
       "4     8.660254  5.000000  5.958188  ...  3.605551  5.000000  1.000000   \n",
       "...        ...       ...       ...  ...       ...       ...       ...   \n",
       "4076  9.055385  5.656854  6.519202  ...  4.472136  5.656854  4.472136   \n",
       "4077  7.889867  3.500000  4.330127  ...  5.678908  3.500000  5.678908   \n",
       "4078  4.000000  7.745967  7.176350  ...  8.246211  7.745967  8.944272   \n",
       "4079  7.141428  1.000000  2.549510  ...  5.385165  1.000000  5.385165   \n",
       "4080  9.069179  5.678908  6.184658  ...  7.500000  5.678908  6.344289   \n",
       "\n",
       "          4074      4075      4076      4077      4078      4079      4080  \n",
       "0     4.031129  5.500000  5.315073  6.363961  9.394147  6.103278  6.041523  \n",
       "1     6.928203  5.830952  5.656854  6.652067  7.745967  6.403124  8.261356  \n",
       "2     4.000000  5.830952  5.656854  3.500000  7.745967  1.000000  5.678908  \n",
       "3     7.549834  1.000000  6.403124  7.297260  6.855655  7.071068  8.789198  \n",
       "4     4.123106  5.196152  5.000000  6.103278  9.219544  5.830952  6.103278  \n",
       "...        ...       ...       ...       ...       ...       ...       ...  \n",
       "4076  6.928203  5.830952  0.000000  4.031129  9.591663  6.403124  8.261356  \n",
       "4077  5.315073  6.800735  4.031129  0.000000  8.500000  3.640055  6.670832  \n",
       "4078  8.717798  6.782330  9.591663  8.500000  0.000000  7.810250  8.261356  \n",
       "4079  4.123106  6.557439  6.403124  3.640055  7.810250  0.000000  5.678908  \n",
       "4080  4.031129  8.381527  8.261356  6.670832  8.261356  5.678908  0.000000  \n",
       "\n",
       "[4081 rows x 4081 columns]"
      ]
     },
     "execution_count": 23,
     "metadata": {},
     "output_type": "execute_result"
    }
   ],
   "source": [
    "user_sim_df = pd.DataFrame(user_sim)\n",
    "user_sim_df"
   ]
  },
  {
   "cell_type": "markdown",
   "metadata": {},
   "source": [
    "Set the index and column names to user ids "
   ]
  },
  {
   "cell_type": "code",
   "execution_count": 24,
   "metadata": {
    "executionInfo": {
     "elapsed": 393,
     "status": "ok",
     "timestamp": 1669030524449,
     "user": {
      "displayName": "Salem Sameer Shaikh",
      "userId": "05291575250389740253"
     },
     "user_tz": -330
    },
    "id": "FFkx838H7x2M"
   },
   "outputs": [],
   "source": [
    "user_sim_df.index = movies_df.userId.unique()\n",
    "user_sim_df.columns = movies_df.userId.unique()"
   ]
  },
  {
   "cell_type": "code",
   "execution_count": 25,
   "metadata": {
    "colab": {
     "base_uri": "https://localhost:8080/",
     "height": 206
    },
    "executionInfo": {
     "elapsed": 1187,
     "status": "ok",
     "timestamp": 1669030581820,
     "user": {
      "displayName": "Salem Sameer Shaikh",
      "userId": "05291575250389740253"
     },
     "user_tz": -330
    },
    "id": "WI88Bxkx7x2N",
    "outputId": "bbe728bc-9871-41ba-b438-3fa3b561eda7"
   },
   "outputs": [
    {
     "data": {
      "text/html": [
       "<div>\n",
       "<style scoped>\n",
       "    .dataframe tbody tr th:only-of-type {\n",
       "        vertical-align: middle;\n",
       "    }\n",
       "\n",
       "    .dataframe tbody tr th {\n",
       "        vertical-align: top;\n",
       "    }\n",
       "\n",
       "    .dataframe thead th {\n",
       "        text-align: right;\n",
       "    }\n",
       "</style>\n",
       "<table border=\"1\" class=\"dataframe\">\n",
       "  <thead>\n",
       "    <tr style=\"text-align: right;\">\n",
       "      <th></th>\n",
       "      <th>3</th>\n",
       "      <th>6</th>\n",
       "      <th>8</th>\n",
       "      <th>10</th>\n",
       "      <th>11</th>\n",
       "      <th>12</th>\n",
       "      <th>13</th>\n",
       "      <th>14</th>\n",
       "      <th>16</th>\n",
       "      <th>19</th>\n",
       "      <th>...</th>\n",
       "      <th>6975</th>\n",
       "      <th>6979</th>\n",
       "      <th>6993</th>\n",
       "      <th>7030</th>\n",
       "      <th>7031</th>\n",
       "      <th>7044</th>\n",
       "      <th>7070</th>\n",
       "      <th>7080</th>\n",
       "      <th>7087</th>\n",
       "      <th>7105</th>\n",
       "    </tr>\n",
       "  </thead>\n",
       "  <tbody>\n",
       "    <tr>\n",
       "      <th>3</th>\n",
       "      <td>0.000000</td>\n",
       "      <td>5.315073</td>\n",
       "      <td>5.315073</td>\n",
       "      <td>6.103278</td>\n",
       "      <td>0.500000</td>\n",
       "      <td>8.440972</td>\n",
       "      <td>5.500000</td>\n",
       "      <td>8.845903</td>\n",
       "      <td>5.315073</td>\n",
       "      <td>6.224950</td>\n",
       "      <td>...</td>\n",
       "      <td>4.031129</td>\n",
       "      <td>5.315073</td>\n",
       "      <td>1.500000</td>\n",
       "      <td>4.031129</td>\n",
       "      <td>5.500000</td>\n",
       "      <td>5.315073</td>\n",
       "      <td>6.363961</td>\n",
       "      <td>9.394147</td>\n",
       "      <td>6.103278</td>\n",
       "      <td>6.041523</td>\n",
       "    </tr>\n",
       "    <tr>\n",
       "      <th>6</th>\n",
       "      <td>5.315073</td>\n",
       "      <td>0.000000</td>\n",
       "      <td>5.656854</td>\n",
       "      <td>6.403124</td>\n",
       "      <td>5.000000</td>\n",
       "      <td>7.141428</td>\n",
       "      <td>3.162278</td>\n",
       "      <td>6.480741</td>\n",
       "      <td>5.656854</td>\n",
       "      <td>6.519202</td>\n",
       "      <td>...</td>\n",
       "      <td>4.472136</td>\n",
       "      <td>5.656854</td>\n",
       "      <td>4.472136</td>\n",
       "      <td>6.928203</td>\n",
       "      <td>5.830952</td>\n",
       "      <td>5.656854</td>\n",
       "      <td>6.652067</td>\n",
       "      <td>7.745967</td>\n",
       "      <td>6.403124</td>\n",
       "      <td>8.261356</td>\n",
       "    </tr>\n",
       "    <tr>\n",
       "      <th>8</th>\n",
       "      <td>5.315073</td>\n",
       "      <td>5.656854</td>\n",
       "      <td>0.000000</td>\n",
       "      <td>6.403124</td>\n",
       "      <td>5.000000</td>\n",
       "      <td>5.916080</td>\n",
       "      <td>5.830952</td>\n",
       "      <td>7.071068</td>\n",
       "      <td>0.000000</td>\n",
       "      <td>2.549510</td>\n",
       "      <td>...</td>\n",
       "      <td>4.472136</td>\n",
       "      <td>0.000000</td>\n",
       "      <td>4.472136</td>\n",
       "      <td>4.000000</td>\n",
       "      <td>5.830952</td>\n",
       "      <td>5.656854</td>\n",
       "      <td>3.500000</td>\n",
       "      <td>7.745967</td>\n",
       "      <td>1.000000</td>\n",
       "      <td>5.678908</td>\n",
       "    </tr>\n",
       "    <tr>\n",
       "      <th>10</th>\n",
       "      <td>6.103278</td>\n",
       "      <td>6.403124</td>\n",
       "      <td>6.403124</td>\n",
       "      <td>0.000000</td>\n",
       "      <td>5.830952</td>\n",
       "      <td>9.165151</td>\n",
       "      <td>6.557439</td>\n",
       "      <td>6.403124</td>\n",
       "      <td>6.403124</td>\n",
       "      <td>5.612486</td>\n",
       "      <td>...</td>\n",
       "      <td>3.605551</td>\n",
       "      <td>6.403124</td>\n",
       "      <td>5.385165</td>\n",
       "      <td>7.549834</td>\n",
       "      <td>1.000000</td>\n",
       "      <td>6.403124</td>\n",
       "      <td>7.297260</td>\n",
       "      <td>6.855655</td>\n",
       "      <td>7.071068</td>\n",
       "      <td>8.789198</td>\n",
       "    </tr>\n",
       "    <tr>\n",
       "      <th>11</th>\n",
       "      <td>0.500000</td>\n",
       "      <td>5.000000</td>\n",
       "      <td>5.000000</td>\n",
       "      <td>5.830952</td>\n",
       "      <td>0.000000</td>\n",
       "      <td>8.246211</td>\n",
       "      <td>5.196152</td>\n",
       "      <td>8.660254</td>\n",
       "      <td>5.000000</td>\n",
       "      <td>5.958188</td>\n",
       "      <td>...</td>\n",
       "      <td>3.605551</td>\n",
       "      <td>5.000000</td>\n",
       "      <td>1.000000</td>\n",
       "      <td>4.123106</td>\n",
       "      <td>5.196152</td>\n",
       "      <td>5.000000</td>\n",
       "      <td>6.103278</td>\n",
       "      <td>9.219544</td>\n",
       "      <td>5.830952</td>\n",
       "      <td>6.103278</td>\n",
       "    </tr>\n",
       "    <tr>\n",
       "      <th>...</th>\n",
       "      <td>...</td>\n",
       "      <td>...</td>\n",
       "      <td>...</td>\n",
       "      <td>...</td>\n",
       "      <td>...</td>\n",
       "      <td>...</td>\n",
       "      <td>...</td>\n",
       "      <td>...</td>\n",
       "      <td>...</td>\n",
       "      <td>...</td>\n",
       "      <td>...</td>\n",
       "      <td>...</td>\n",
       "      <td>...</td>\n",
       "      <td>...</td>\n",
       "      <td>...</td>\n",
       "      <td>...</td>\n",
       "      <td>...</td>\n",
       "      <td>...</td>\n",
       "      <td>...</td>\n",
       "      <td>...</td>\n",
       "      <td>...</td>\n",
       "    </tr>\n",
       "    <tr>\n",
       "      <th>7044</th>\n",
       "      <td>5.315073</td>\n",
       "      <td>5.656854</td>\n",
       "      <td>5.656854</td>\n",
       "      <td>6.403124</td>\n",
       "      <td>5.000000</td>\n",
       "      <td>8.660254</td>\n",
       "      <td>5.830952</td>\n",
       "      <td>9.055385</td>\n",
       "      <td>5.656854</td>\n",
       "      <td>6.519202</td>\n",
       "      <td>...</td>\n",
       "      <td>4.472136</td>\n",
       "      <td>5.656854</td>\n",
       "      <td>4.472136</td>\n",
       "      <td>6.928203</td>\n",
       "      <td>5.830952</td>\n",
       "      <td>0.000000</td>\n",
       "      <td>4.031129</td>\n",
       "      <td>9.591663</td>\n",
       "      <td>6.403124</td>\n",
       "      <td>8.261356</td>\n",
       "    </tr>\n",
       "    <tr>\n",
       "      <th>7070</th>\n",
       "      <td>6.363961</td>\n",
       "      <td>6.652067</td>\n",
       "      <td>3.500000</td>\n",
       "      <td>7.297260</td>\n",
       "      <td>6.103278</td>\n",
       "      <td>6.873864</td>\n",
       "      <td>6.800735</td>\n",
       "      <td>7.889867</td>\n",
       "      <td>3.500000</td>\n",
       "      <td>4.330127</td>\n",
       "      <td>...</td>\n",
       "      <td>5.678908</td>\n",
       "      <td>3.500000</td>\n",
       "      <td>5.678908</td>\n",
       "      <td>5.315073</td>\n",
       "      <td>6.800735</td>\n",
       "      <td>4.031129</td>\n",
       "      <td>0.000000</td>\n",
       "      <td>8.500000</td>\n",
       "      <td>3.640055</td>\n",
       "      <td>6.670832</td>\n",
       "    </tr>\n",
       "    <tr>\n",
       "      <th>7080</th>\n",
       "      <td>9.394147</td>\n",
       "      <td>7.745967</td>\n",
       "      <td>7.745967</td>\n",
       "      <td>6.855655</td>\n",
       "      <td>9.219544</td>\n",
       "      <td>6.403124</td>\n",
       "      <td>7.211103</td>\n",
       "      <td>4.000000</td>\n",
       "      <td>7.745967</td>\n",
       "      <td>7.176350</td>\n",
       "      <td>...</td>\n",
       "      <td>8.246211</td>\n",
       "      <td>7.745967</td>\n",
       "      <td>8.944272</td>\n",
       "      <td>8.717798</td>\n",
       "      <td>6.782330</td>\n",
       "      <td>9.591663</td>\n",
       "      <td>8.500000</td>\n",
       "      <td>0.000000</td>\n",
       "      <td>7.810250</td>\n",
       "      <td>8.261356</td>\n",
       "    </tr>\n",
       "    <tr>\n",
       "      <th>7087</th>\n",
       "      <td>6.103278</td>\n",
       "      <td>6.403124</td>\n",
       "      <td>1.000000</td>\n",
       "      <td>7.071068</td>\n",
       "      <td>5.830952</td>\n",
       "      <td>5.830952</td>\n",
       "      <td>6.557439</td>\n",
       "      <td>7.141428</td>\n",
       "      <td>1.000000</td>\n",
       "      <td>2.549510</td>\n",
       "      <td>...</td>\n",
       "      <td>5.385165</td>\n",
       "      <td>1.000000</td>\n",
       "      <td>5.385165</td>\n",
       "      <td>4.123106</td>\n",
       "      <td>6.557439</td>\n",
       "      <td>6.403124</td>\n",
       "      <td>3.640055</td>\n",
       "      <td>7.810250</td>\n",
       "      <td>0.000000</td>\n",
       "      <td>5.678908</td>\n",
       "    </tr>\n",
       "    <tr>\n",
       "      <th>7105</th>\n",
       "      <td>6.041523</td>\n",
       "      <td>8.261356</td>\n",
       "      <td>5.678908</td>\n",
       "      <td>8.789198</td>\n",
       "      <td>6.103278</td>\n",
       "      <td>5.123475</td>\n",
       "      <td>6.800735</td>\n",
       "      <td>9.069179</td>\n",
       "      <td>5.678908</td>\n",
       "      <td>6.184658</td>\n",
       "      <td>...</td>\n",
       "      <td>7.500000</td>\n",
       "      <td>5.678908</td>\n",
       "      <td>6.344289</td>\n",
       "      <td>4.031129</td>\n",
       "      <td>8.381527</td>\n",
       "      <td>8.261356</td>\n",
       "      <td>6.670832</td>\n",
       "      <td>8.261356</td>\n",
       "      <td>5.678908</td>\n",
       "      <td>0.000000</td>\n",
       "    </tr>\n",
       "  </tbody>\n",
       "</table>\n",
       "<p>4081 rows × 4081 columns</p>\n",
       "</div>"
      ],
      "text/plain": [
       "          3         6         8         10        11        12        13    \\\n",
       "3     0.000000  5.315073  5.315073  6.103278  0.500000  8.440972  5.500000   \n",
       "6     5.315073  0.000000  5.656854  6.403124  5.000000  7.141428  3.162278   \n",
       "8     5.315073  5.656854  0.000000  6.403124  5.000000  5.916080  5.830952   \n",
       "10    6.103278  6.403124  6.403124  0.000000  5.830952  9.165151  6.557439   \n",
       "11    0.500000  5.000000  5.000000  5.830952  0.000000  8.246211  5.196152   \n",
       "...        ...       ...       ...       ...       ...       ...       ...   \n",
       "7044  5.315073  5.656854  5.656854  6.403124  5.000000  8.660254  5.830952   \n",
       "7070  6.363961  6.652067  3.500000  7.297260  6.103278  6.873864  6.800735   \n",
       "7080  9.394147  7.745967  7.745967  6.855655  9.219544  6.403124  7.211103   \n",
       "7087  6.103278  6.403124  1.000000  7.071068  5.830952  5.830952  6.557439   \n",
       "7105  6.041523  8.261356  5.678908  8.789198  6.103278  5.123475  6.800735   \n",
       "\n",
       "          14        16        19    ...      6975      6979      6993  \\\n",
       "3     8.845903  5.315073  6.224950  ...  4.031129  5.315073  1.500000   \n",
       "6     6.480741  5.656854  6.519202  ...  4.472136  5.656854  4.472136   \n",
       "8     7.071068  0.000000  2.549510  ...  4.472136  0.000000  4.472136   \n",
       "10    6.403124  6.403124  5.612486  ...  3.605551  6.403124  5.385165   \n",
       "11    8.660254  5.000000  5.958188  ...  3.605551  5.000000  1.000000   \n",
       "...        ...       ...       ...  ...       ...       ...       ...   \n",
       "7044  9.055385  5.656854  6.519202  ...  4.472136  5.656854  4.472136   \n",
       "7070  7.889867  3.500000  4.330127  ...  5.678908  3.500000  5.678908   \n",
       "7080  4.000000  7.745967  7.176350  ...  8.246211  7.745967  8.944272   \n",
       "7087  7.141428  1.000000  2.549510  ...  5.385165  1.000000  5.385165   \n",
       "7105  9.069179  5.678908  6.184658  ...  7.500000  5.678908  6.344289   \n",
       "\n",
       "          7030      7031      7044      7070      7080      7087      7105  \n",
       "3     4.031129  5.500000  5.315073  6.363961  9.394147  6.103278  6.041523  \n",
       "6     6.928203  5.830952  5.656854  6.652067  7.745967  6.403124  8.261356  \n",
       "8     4.000000  5.830952  5.656854  3.500000  7.745967  1.000000  5.678908  \n",
       "10    7.549834  1.000000  6.403124  7.297260  6.855655  7.071068  8.789198  \n",
       "11    4.123106  5.196152  5.000000  6.103278  9.219544  5.830952  6.103278  \n",
       "...        ...       ...       ...       ...       ...       ...       ...  \n",
       "7044  6.928203  5.830952  0.000000  4.031129  9.591663  6.403124  8.261356  \n",
       "7070  5.315073  6.800735  4.031129  0.000000  8.500000  3.640055  6.670832  \n",
       "7080  8.717798  6.782330  9.591663  8.500000  0.000000  7.810250  8.261356  \n",
       "7087  4.123106  6.557439  6.403124  3.640055  7.810250  0.000000  5.678908  \n",
       "7105  4.031129  8.381527  8.261356  6.670832  8.261356  5.678908  0.000000  \n",
       "\n",
       "[4081 rows x 4081 columns]"
      ]
     },
     "execution_count": 25,
     "metadata": {},
     "output_type": "execute_result"
    }
   ],
   "source": [
    "user_sim_df"
   ]
  },
  {
   "cell_type": "code",
   "execution_count": 26,
   "metadata": {
    "colab": {
     "base_uri": "https://localhost:8080/",
     "height": 206
    },
    "executionInfo": {
     "elapsed": 404,
     "status": "ok",
     "timestamp": 1669030619143,
     "user": {
      "displayName": "Salem Sameer Shaikh",
      "userId": "05291575250389740253"
     },
     "user_tz": -330
    },
    "id": "UeZOVP-i7x2N",
    "outputId": "b73eac7c-94d3-41af-a82b-695e72f6c98a"
   },
   "outputs": [
    {
     "data": {
      "text/html": [
       "<div>\n",
       "<style scoped>\n",
       "    .dataframe tbody tr th:only-of-type {\n",
       "        vertical-align: middle;\n",
       "    }\n",
       "\n",
       "    .dataframe tbody tr th {\n",
       "        vertical-align: top;\n",
       "    }\n",
       "\n",
       "    .dataframe thead th {\n",
       "        text-align: right;\n",
       "    }\n",
       "</style>\n",
       "<table border=\"1\" class=\"dataframe\">\n",
       "  <thead>\n",
       "    <tr style=\"text-align: right;\">\n",
       "      <th></th>\n",
       "      <th>3</th>\n",
       "      <th>6</th>\n",
       "      <th>8</th>\n",
       "      <th>10</th>\n",
       "      <th>11</th>\n",
       "      <th>12</th>\n",
       "      <th>13</th>\n",
       "      <th>14</th>\n",
       "      <th>16</th>\n",
       "      <th>19</th>\n",
       "      <th>22</th>\n",
       "    </tr>\n",
       "  </thead>\n",
       "  <tbody>\n",
       "    <tr>\n",
       "      <th>3</th>\n",
       "      <td>1.000000</td>\n",
       "      <td>5.315073</td>\n",
       "      <td>5.315073</td>\n",
       "      <td>6.103278</td>\n",
       "      <td>0.500000</td>\n",
       "      <td>8.440972</td>\n",
       "      <td>5.500000</td>\n",
       "      <td>8.845903</td>\n",
       "      <td>5.315073</td>\n",
       "      <td>6.224950</td>\n",
       "      <td>7.697402</td>\n",
       "    </tr>\n",
       "    <tr>\n",
       "      <th>6</th>\n",
       "      <td>5.315073</td>\n",
       "      <td>1.000000</td>\n",
       "      <td>5.656854</td>\n",
       "      <td>6.403124</td>\n",
       "      <td>5.000000</td>\n",
       "      <td>7.141428</td>\n",
       "      <td>3.162278</td>\n",
       "      <td>6.480741</td>\n",
       "      <td>5.656854</td>\n",
       "      <td>6.519202</td>\n",
       "      <td>6.244998</td>\n",
       "    </tr>\n",
       "    <tr>\n",
       "      <th>8</th>\n",
       "      <td>5.315073</td>\n",
       "      <td>5.656854</td>\n",
       "      <td>1.000000</td>\n",
       "      <td>6.403124</td>\n",
       "      <td>5.000000</td>\n",
       "      <td>5.916080</td>\n",
       "      <td>5.830952</td>\n",
       "      <td>7.071068</td>\n",
       "      <td>0.000000</td>\n",
       "      <td>2.549510</td>\n",
       "      <td>5.567764</td>\n",
       "    </tr>\n",
       "    <tr>\n",
       "      <th>10</th>\n",
       "      <td>6.103278</td>\n",
       "      <td>6.403124</td>\n",
       "      <td>6.403124</td>\n",
       "      <td>1.000000</td>\n",
       "      <td>5.830952</td>\n",
       "      <td>9.165151</td>\n",
       "      <td>6.557439</td>\n",
       "      <td>6.403124</td>\n",
       "      <td>6.403124</td>\n",
       "      <td>5.612486</td>\n",
       "      <td>7.348469</td>\n",
       "    </tr>\n",
       "    <tr>\n",
       "      <th>11</th>\n",
       "      <td>0.500000</td>\n",
       "      <td>5.000000</td>\n",
       "      <td>5.000000</td>\n",
       "      <td>5.830952</td>\n",
       "      <td>1.000000</td>\n",
       "      <td>8.246211</td>\n",
       "      <td>5.196152</td>\n",
       "      <td>8.660254</td>\n",
       "      <td>5.000000</td>\n",
       "      <td>5.958188</td>\n",
       "      <td>7.483315</td>\n",
       "    </tr>\n",
       "  </tbody>\n",
       "</table>\n",
       "</div>"
      ],
      "text/plain": [
       "          3         6         8         10        11        12        13  \\\n",
       "3   1.000000  5.315073  5.315073  6.103278  0.500000  8.440972  5.500000   \n",
       "6   5.315073  1.000000  5.656854  6.403124  5.000000  7.141428  3.162278   \n",
       "8   5.315073  5.656854  1.000000  6.403124  5.000000  5.916080  5.830952   \n",
       "10  6.103278  6.403124  6.403124  1.000000  5.830952  9.165151  6.557439   \n",
       "11  0.500000  5.000000  5.000000  5.830952  1.000000  8.246211  5.196152   \n",
       "\n",
       "          14        16        19        22  \n",
       "3   8.845903  5.315073  6.224950  7.697402  \n",
       "6   6.480741  5.656854  6.519202  6.244998  \n",
       "8   7.071068  0.000000  2.549510  5.567764  \n",
       "10  6.403124  6.403124  5.612486  7.348469  \n",
       "11  8.660254  5.000000  5.958188  7.483315  "
      ]
     },
     "execution_count": 26,
     "metadata": {},
     "output_type": "execute_result"
    }
   ],
   "source": [
    "np.fill_diagonal(user_sim, 1)\n",
    "user_sim_df.iloc[0:5, 0:11]"
   ]
  },
  {
   "cell_type": "markdown",
   "metadata": {},
   "source": [
    "Most Similar Users"
   ]
  },
  {
   "cell_type": "code",
   "execution_count": 27,
   "metadata": {
    "colab": {
     "base_uri": "https://localhost:8080/"
    },
    "executionInfo": {
     "elapsed": 372,
     "status": "ok",
     "timestamp": 1669030672227,
     "user": {
      "displayName": "Salem Sameer Shaikh",
      "userId": "05291575250389740253"
     },
     "user_tz": -330
    },
    "id": "h57yAdu77x2N",
    "outputId": "1ef29b9c-3abe-482c-aedc-a949df98bf1e",
    "scrolled": true
   },
   "outputs": [
    {
     "data": {
      "text/plain": [
       "3       2056\n",
       "6        715\n",
       "8         16\n",
       "10      4047\n",
       "11       209\n",
       "        ... \n",
       "7044    1528\n",
       "7070    1808\n",
       "7080    7080\n",
       "7087     134\n",
       "7105    6450\n",
       "Length: 4081, dtype: int64"
      ]
     },
     "execution_count": 27,
     "metadata": {},
     "output_type": "execute_result"
    }
   ],
   "source": [
    "user_sim_df.idxmin(axis=1)"
   ]
  },
  {
   "cell_type": "code",
   "execution_count": 28,
   "metadata": {
    "colab": {
     "base_uri": "https://localhost:8080/",
     "height": 175
    },
    "executionInfo": {
     "elapsed": 881,
     "status": "ok",
     "timestamp": 1669030724914,
     "user": {
      "displayName": "Salem Sameer Shaikh",
      "userId": "05291575250389740253"
     },
     "user_tz": -330
    },
    "id": "soXEAudU7x2N",
    "outputId": "3abe9f8f-5a2a-4610-a8df-1ffa2b9150c6"
   },
   "outputs": [
    {
     "data": {
      "text/html": [
       "<div>\n",
       "<style scoped>\n",
       "    .dataframe tbody tr th:only-of-type {\n",
       "        vertical-align: middle;\n",
       "    }\n",
       "\n",
       "    .dataframe tbody tr th {\n",
       "        vertical-align: top;\n",
       "    }\n",
       "\n",
       "    .dataframe thead th {\n",
       "        text-align: right;\n",
       "    }\n",
       "</style>\n",
       "<table border=\"1\" class=\"dataframe\">\n",
       "  <thead>\n",
       "    <tr style=\"text-align: right;\">\n",
       "      <th></th>\n",
       "      <th>userId</th>\n",
       "      <th>movie</th>\n",
       "      <th>rating</th>\n",
       "    </tr>\n",
       "  </thead>\n",
       "  <tbody>\n",
       "    <tr>\n",
       "      <th>0</th>\n",
       "      <td>3</td>\n",
       "      <td>Toy Story (1995)</td>\n",
       "      <td>4.0</td>\n",
       "    </tr>\n",
       "    <tr>\n",
       "      <th>737</th>\n",
       "      <td>2056</td>\n",
       "      <td>Toy Story (1995)</td>\n",
       "      <td>0.5</td>\n",
       "    </tr>\n",
       "    <tr>\n",
       "      <th>7900</th>\n",
       "      <td>2056</td>\n",
       "      <td>GoldenEye (1995)</td>\n",
       "      <td>2.5</td>\n",
       "    </tr>\n",
       "  </tbody>\n",
       "</table>\n",
       "</div>"
      ],
      "text/plain": [
       "      userId             movie  rating\n",
       "0          3  Toy Story (1995)     4.0\n",
       "737     2056  Toy Story (1995)     0.5\n",
       "7900    2056  GoldenEye (1995)     2.5"
      ]
     },
     "execution_count": 28,
     "metadata": {},
     "output_type": "execute_result"
    }
   ],
   "source": [
    "movies_df[(movies_df['userId']==3) | (movies_df['userId']==2056)]"
   ]
  },
  {
   "cell_type": "code",
   "execution_count": 29,
   "metadata": {
    "executionInfo": {
     "elapsed": 1028,
     "status": "ok",
     "timestamp": 1669030776254,
     "user": {
      "displayName": "Salem Sameer Shaikh",
      "userId": "05291575250389740253"
     },
     "user_tz": -330
    },
    "id": "WnE767dz7x2O"
   },
   "outputs": [],
   "source": [
    "user_1=movies_df[movies_df['userId']==6]"
   ]
  },
  {
   "cell_type": "code",
   "execution_count": 30,
   "metadata": {
    "executionInfo": {
     "elapsed": 2,
     "status": "ok",
     "timestamp": 1669030776668,
     "user": {
      "displayName": "Salem Sameer Shaikh",
      "userId": "05291575250389740253"
     },
     "user_tz": -330
    },
    "id": "L8n8rpJE7x2O"
   },
   "outputs": [],
   "source": [
    "user_2=movies_df[movies_df['userId']==168]"
   ]
  },
  {
   "cell_type": "code",
   "execution_count": 31,
   "metadata": {
    "id": "OYiT6tiIOL9U"
   },
   "outputs": [
    {
     "data": {
      "text/plain": [
       "pandas.core.frame.DataFrame"
      ]
     },
     "execution_count": 31,
     "metadata": {},
     "output_type": "execute_result"
    }
   ],
   "source": [
    "type(user_2)"
   ]
  },
  {
   "cell_type": "code",
   "execution_count": 32,
   "metadata": {
    "colab": {
     "base_uri": "https://localhost:8080/"
    },
    "executionInfo": {
     "elapsed": 3,
     "status": "ok",
     "timestamp": 1669030780166,
     "user": {
      "displayName": "Salem Sameer Shaikh",
      "userId": "05291575250389740253"
     },
     "user_tz": -330
    },
    "id": "xVy5HS0l7x2O",
    "outputId": "f2633db3-8ab5-459e-d03f-9ecc578817d9"
   },
   "outputs": [
    {
     "data": {
      "text/plain": [
       "60    Toy Story (1995)\n",
       "Name: movie, dtype: object"
      ]
     },
     "execution_count": 32,
     "metadata": {},
     "output_type": "execute_result"
    }
   ],
   "source": [
    "user_2.movie"
   ]
  },
  {
   "cell_type": "code",
   "execution_count": 33,
   "metadata": {
    "colab": {
     "base_uri": "https://localhost:8080/"
    },
    "executionInfo": {
     "elapsed": 389,
     "status": "ok",
     "timestamp": 1669030781706,
     "user": {
      "displayName": "Salem Sameer Shaikh",
      "userId": "05291575250389740253"
     },
     "user_tz": -330
    },
    "id": "TawLGMf47x2O",
    "outputId": "df0b68a3-2984-45e8-fb48-5ea19babb23c"
   },
   "outputs": [
    {
     "data": {
      "text/plain": [
       "1              Toy Story (1995)\n",
       "3725    Grumpier Old Men (1995)\n",
       "6464             Sabrina (1995)\n",
       "Name: movie, dtype: object"
      ]
     },
     "execution_count": 33,
     "metadata": {},
     "output_type": "execute_result"
    }
   ],
   "source": [
    "user_1.movie"
   ]
  },
  {
   "cell_type": "code",
   "execution_count": 34,
   "metadata": {
    "colab": {
     "base_uri": "https://localhost:8080/",
     "height": 143
    },
    "executionInfo": {
     "elapsed": 419,
     "status": "ok",
     "timestamp": 1669030788742,
     "user": {
      "displayName": "Salem Sameer Shaikh",
      "userId": "05291575250389740253"
     },
     "user_tz": -330
    },
    "id": "M85rN-OY7x2P",
    "outputId": "f5681790-b057-4c34-cc2e-83f4843e61c2"
   },
   "outputs": [
    {
     "data": {
      "text/html": [
       "<div>\n",
       "<style scoped>\n",
       "    .dataframe tbody tr th:only-of-type {\n",
       "        vertical-align: middle;\n",
       "    }\n",
       "\n",
       "    .dataframe tbody tr th {\n",
       "        vertical-align: top;\n",
       "    }\n",
       "\n",
       "    .dataframe thead th {\n",
       "        text-align: right;\n",
       "    }\n",
       "</style>\n",
       "<table border=\"1\" class=\"dataframe\">\n",
       "  <thead>\n",
       "    <tr style=\"text-align: right;\">\n",
       "      <th></th>\n",
       "      <th>userId_x</th>\n",
       "      <th>movie</th>\n",
       "      <th>rating_x</th>\n",
       "      <th>userId_y</th>\n",
       "      <th>rating_y</th>\n",
       "    </tr>\n",
       "  </thead>\n",
       "  <tbody>\n",
       "    <tr>\n",
       "      <th>0</th>\n",
       "      <td>6</td>\n",
       "      <td>Toy Story (1995)</td>\n",
       "      <td>5.0</td>\n",
       "      <td>168.0</td>\n",
       "      <td>4.5</td>\n",
       "    </tr>\n",
       "    <tr>\n",
       "      <th>1</th>\n",
       "      <td>6</td>\n",
       "      <td>Grumpier Old Men (1995)</td>\n",
       "      <td>3.0</td>\n",
       "      <td>NaN</td>\n",
       "      <td>NaN</td>\n",
       "    </tr>\n",
       "    <tr>\n",
       "      <th>2</th>\n",
       "      <td>6</td>\n",
       "      <td>Sabrina (1995)</td>\n",
       "      <td>5.0</td>\n",
       "      <td>NaN</td>\n",
       "      <td>NaN</td>\n",
       "    </tr>\n",
       "  </tbody>\n",
       "</table>\n",
       "</div>"
      ],
      "text/plain": [
       "   userId_x                    movie  rating_x  userId_y  rating_y\n",
       "0         6         Toy Story (1995)       5.0     168.0       4.5\n",
       "1         6  Grumpier Old Men (1995)       3.0       NaN       NaN\n",
       "2         6           Sabrina (1995)       5.0       NaN       NaN"
      ]
     },
     "execution_count": 34,
     "metadata": {},
     "output_type": "execute_result"
    }
   ],
   "source": [
    "pd.merge(user_1,user_2,on='movie',how='outer')"
   ]
  },
  {
   "cell_type": "markdown",
   "metadata": {
    "id": "t3kdlieH7x2P"
   },
   "source": [
    "* Yuvraj Sutar \n",
    "* yuvrajsutar009@gmail.com"
   ]
  }
 ],
 "metadata": {
  "colab": {
   "provenance": []
  },
  "kernelspec": {
   "display_name": "Python 3 (ipykernel)",
   "language": "python",
   "name": "python3"
  },
  "language_info": {
   "codemirror_mode": {
    "name": "ipython",
    "version": 3
   },
   "file_extension": ".py",
   "mimetype": "text/x-python",
   "name": "python",
   "nbconvert_exporter": "python",
   "pygments_lexer": "ipython3",
   "version": "3.9.7"
  }
 },
 "nbformat": 4,
 "nbformat_minor": 1
}
